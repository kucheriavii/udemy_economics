{
 "cells": [
  {
   "cell_type": "markdown",
   "id": "d867eecf-c8a5-4a82-9b13-6c2aaf4c0d89",
   "metadata": {},
   "source": [
    "Компанія \"Альфа\" за рік мала чистий обсяг продажів у розмірі 1 200 000 грн. На початок року дебіторська заборгованість становила 150 000 грн, а на кінець року - 170 000 грн.\n",
    "\n",
    "- Знайдіть обертаємість дебіторської заборгованості за рік.\n",
    "- Визначте середній період погашення дебіторської заборгованості."
   ]
  },
  {
   "cell_type": "code",
   "execution_count": 3,
   "id": "0d77c4e8-aa7d-4341-b183-2cabf5329147",
   "metadata": {},
   "outputs": [],
   "source": [
    "revenue = 1_200_000\n",
    "debit_start = 150_000\n",
    "debit_end = 170_000"
   ]
  },
  {
   "cell_type": "code",
   "execution_count": 8,
   "id": "7199f46d-b2a9-41ec-b2b6-dc5fa15c3cc6",
   "metadata": {},
   "outputs": [],
   "source": [
    "debit_avg = (debit_start+debit_end)/2"
   ]
  },
  {
   "cell_type": "code",
   "execution_count": 12,
   "id": "c1f7f3f1-b75b-4bb1-abf4-5eb394be6c20",
   "metadata": {},
   "outputs": [],
   "source": [
    "Accounts_Receivable_Turnover = revenue/debit_avg"
   ]
  },
  {
   "cell_type": "code",
   "execution_count": 13,
   "id": "c20aa107-4e89-472e-916c-a8c8e8ce77d2",
   "metadata": {},
   "outputs": [
    {
     "data": {
      "text/plain": [
       "48.666666666666664"
      ]
     },
     "execution_count": 13,
     "metadata": {},
     "output_type": "execute_result"
    }
   ],
   "source": [
    "365/Accounts_Receivable_Turnover"
   ]
  },
  {
   "cell_type": "markdown",
   "id": "bbb382a2-fca3-4c00-85f8-3e4959d7252d",
   "metadata": {},
   "source": [
    "# Задача 2: Аналіз ефективності обертаємості дебіторської заборгованості\n",
    "Умова:\n",
    "Компанія \"Бета\" за попередній рік мала такі показники:\n",
    "\n",
    "Чистий обсяг продажів: 2 500 000 грн\n",
    "Дебіторська заборгованість на початок року: 300 000 грн\n",
    "Дебіторська заборгованість на кінець року: 250 000 грн\n",
    "Конкурент компанії \"Гамма\" мав обертаємість дебіторської заборгованості 9,0 разів на рік.\n",
    "\n",
    "Розрахуйте обертаємість дебіторської заборгованості компанії \"Бета\".\n",
    "Порівняйте її з конкурентом і зробіть висновок про ефективність управління дебіторською заборгованістю."
   ]
  },
  {
   "cell_type": "code",
   "execution_count": 16,
   "id": "04cb0df2-c0be-4710-bbc5-d177fd9baf5a",
   "metadata": {},
   "outputs": [],
   "source": [
    "revenue = 2_500_000\n",
    "debit_start = 300_000\n",
    "debit_end = 250_000"
   ]
  },
  {
   "cell_type": "code",
   "execution_count": 21,
   "id": "65621617-52c3-4839-8560-3009983c5e06",
   "metadata": {},
   "outputs": [
    {
     "data": {
      "text/plain": [
       "9.090909090909092"
      ]
     },
     "execution_count": 21,
     "metadata": {},
     "output_type": "execute_result"
    }
   ],
   "source": [
    "debit_avg = (debit_start+debit_end)/2\n",
    "ART = revenue/debit_avg\n",
    "ART"
   ]
  },
  {
   "cell_type": "code",
   "execution_count": 18,
   "id": "0b2d19dc-5441-4ef5-a909-413f5294d0e2",
   "metadata": {},
   "outputs": [
    {
     "data": {
      "text/plain": [
       "275000.0"
      ]
     },
     "execution_count": 18,
     "metadata": {},
     "output_type": "execute_result"
    }
   ],
   "source": [
    "debit_avg"
   ]
  },
  {
   "cell_type": "markdown",
   "id": "465d18ff-82f9-4317-8171-75fec87ddb68",
   "metadata": {},
   "source": [
    "```Давайте розглянемо більш складну задачу, яка включатиме декілька фінансових показників і аналіз ефективності обертаємості дебіторської заборгованості в динаміці, а також порівняння з галузевими стандартами.\n",
    "\n",
    "Складна задача з обертаємістю дебіторської заборгованості\n",
    "Умова:\n",
    "Компанія \"Дельта\" займається виробництвом і продажем електроніки. Протягом останніх трьох років її фінансові показники мають такі значення:\n",
    "\n",
    "Рік\tЧистий обсяг продажів (грн)\tДебіторська заборгованість на початок року (грн)\tДебіторська заборгованість на кінець року (грн)\n",
    "Рік 1\t4 000 000\t500 000\t600 000\n",
    "Рік 2\t4 500 000\t600 000\t650 000\n",
    "Рік 3\t5 000 000\t650 000\t700 000\n",
    "Галузевий стандарт обертаємості дебіторської заборгованості – 10 разів на рік.\n",
    "\n",
    "Розрахуйте обертаємість дебіторської заборгованості для кожного року компанії \"Дельта\".\n",
    "Визначте середній період погашення дебіторської заборгованості (у днях) для кожного року.\n",
    "Проаналізуйте динаміку обертаємості дебіторської заборгованості компанії та порівняйте з галузевим стандартом. Вкажіть, чи є тенденція до покращення або погіршення.\n",
    "Визначте, які кроки можна зробити для підвищення обертаємості дебіторської заборгованості.```"
   ]
  },
  {
   "cell_type": "code",
   "execution_count": 23,
   "id": "2a770457-ee6b-4bc9-ad7b-fcf741ac77a4",
   "metadata": {},
   "outputs": [],
   "source": [
    "import pandas as pd"
   ]
  },
  {
   "cell_type": "code",
   "execution_count": 39,
   "id": "a251e38b-5d69-4f0f-b725-2d09e8394fc2",
   "metadata": {},
   "outputs": [],
   "source": [
    "df = pd.DataFrame({\n",
    "'years': [1,2,3], \n",
    "'sales':[4_000_000, 4_500_000, 5_000_000],\n",
    "'debit_start':[500_000, 600_000, 650_000],\n",
    "'debit_finish':[600_000, 650_000, 700_000]\n",
    "})"
   ]
  },
  {
   "cell_type": "code",
   "execution_count": 37,
   "id": "6ddb12cd-1ae9-45f6-97f7-a75612e36e32",
   "metadata": {},
   "outputs": [
    {
     "name": "stdout",
     "output_type": "stream",
     "text": [
      "years\n",
      "sales\n",
      "debit_start\n",
      "debit_finish\n"
     ]
    }
   ],
   "source": [
    "for x in dfs:\n",
    "    print(x)"
   ]
  },
  {
   "cell_type": "code",
   "execution_count": 42,
   "id": "a83571c8-9439-4c95-aa52-8c018cd29adf",
   "metadata": {},
   "outputs": [
    {
     "data": {
      "text/html": [
       "<div>\n",
       "<style scoped>\n",
       "    .dataframe tbody tr th:only-of-type {\n",
       "        vertical-align: middle;\n",
       "    }\n",
       "\n",
       "    .dataframe tbody tr th {\n",
       "        vertical-align: top;\n",
       "    }\n",
       "\n",
       "    .dataframe thead th {\n",
       "        text-align: right;\n",
       "    }\n",
       "</style>\n",
       "<table border=\"1\" class=\"dataframe\">\n",
       "  <thead>\n",
       "    <tr style=\"text-align: right;\">\n",
       "      <th></th>\n",
       "      <th>years</th>\n",
       "      <th>sales</th>\n",
       "      <th>debit_start</th>\n",
       "      <th>debit_finish</th>\n",
       "      <th>ART</th>\n",
       "    </tr>\n",
       "  </thead>\n",
       "  <tbody>\n",
       "    <tr>\n",
       "      <th>0</th>\n",
       "      <td>1</td>\n",
       "      <td>4000000</td>\n",
       "      <td>500000</td>\n",
       "      <td>600000</td>\n",
       "      <td>7.272727</td>\n",
       "    </tr>\n",
       "    <tr>\n",
       "      <th>1</th>\n",
       "      <td>2</td>\n",
       "      <td>4500000</td>\n",
       "      <td>600000</td>\n",
       "      <td>650000</td>\n",
       "      <td>7.200000</td>\n",
       "    </tr>\n",
       "    <tr>\n",
       "      <th>2</th>\n",
       "      <td>3</td>\n",
       "      <td>5000000</td>\n",
       "      <td>650000</td>\n",
       "      <td>700000</td>\n",
       "      <td>7.407407</td>\n",
       "    </tr>\n",
       "  </tbody>\n",
       "</table>\n",
       "</div>"
      ],
      "text/plain": [
       "   years    sales  debit_start  debit_finish       ART\n",
       "0      1  4000000       500000        600000  7.272727\n",
       "1      2  4500000       600000        650000  7.200000\n",
       "2      3  5000000       650000        700000  7.407407"
      ]
     },
     "execution_count": 42,
     "metadata": {},
     "output_type": "execute_result"
    }
   ],
   "source": [
    "df['ART'] = df['sales']/((df['debit_start']+df['debit_finish'])/2)\n",
    "df"
   ]
  },
  {
   "cell_type": "code",
   "execution_count": 43,
   "id": "792f1aa7-8e0f-4ac2-a05f-7bed457de79c",
   "metadata": {},
   "outputs": [
    {
     "data": {
      "text/html": [
       "<div>\n",
       "<style scoped>\n",
       "    .dataframe tbody tr th:only-of-type {\n",
       "        vertical-align: middle;\n",
       "    }\n",
       "\n",
       "    .dataframe tbody tr th {\n",
       "        vertical-align: top;\n",
       "    }\n",
       "\n",
       "    .dataframe thead th {\n",
       "        text-align: right;\n",
       "    }\n",
       "</style>\n",
       "<table border=\"1\" class=\"dataframe\">\n",
       "  <thead>\n",
       "    <tr style=\"text-align: right;\">\n",
       "      <th></th>\n",
       "      <th>years</th>\n",
       "      <th>sales</th>\n",
       "      <th>debit_start</th>\n",
       "      <th>debit_finish</th>\n",
       "      <th>ART</th>\n",
       "      <th>ART in days</th>\n",
       "    </tr>\n",
       "  </thead>\n",
       "  <tbody>\n",
       "    <tr>\n",
       "      <th>0</th>\n",
       "      <td>1</td>\n",
       "      <td>4000000</td>\n",
       "      <td>500000</td>\n",
       "      <td>600000</td>\n",
       "      <td>7.272727</td>\n",
       "      <td>50.187500</td>\n",
       "    </tr>\n",
       "    <tr>\n",
       "      <th>1</th>\n",
       "      <td>2</td>\n",
       "      <td>4500000</td>\n",
       "      <td>600000</td>\n",
       "      <td>650000</td>\n",
       "      <td>7.200000</td>\n",
       "      <td>50.694444</td>\n",
       "    </tr>\n",
       "    <tr>\n",
       "      <th>2</th>\n",
       "      <td>3</td>\n",
       "      <td>5000000</td>\n",
       "      <td>650000</td>\n",
       "      <td>700000</td>\n",
       "      <td>7.407407</td>\n",
       "      <td>49.275000</td>\n",
       "    </tr>\n",
       "  </tbody>\n",
       "</table>\n",
       "</div>"
      ],
      "text/plain": [
       "   years    sales  debit_start  debit_finish       ART  ART in days\n",
       "0      1  4000000       500000        600000  7.272727    50.187500\n",
       "1      2  4500000       600000        650000  7.200000    50.694444\n",
       "2      3  5000000       650000        700000  7.407407    49.275000"
      ]
     },
     "execution_count": 43,
     "metadata": {},
     "output_type": "execute_result"
    }
   ],
   "source": [
    "df['ART in days'] = 365/df['ART']\n",
    "df"
   ]
  },
  {
   "cell_type": "code",
   "execution_count": null,
   "id": "861c8a16-ec54-4dd7-81fa-fcdde1de003f",
   "metadata": {},
   "outputs": [],
   "source": []
  }
 ],
 "metadata": {
  "kernelspec": {
   "display_name": "Python 3 (ipykernel)",
   "language": "python",
   "name": "python3"
  },
  "language_info": {
   "codemirror_mode": {
    "name": "ipython",
    "version": 3
   },
   "file_extension": ".py",
   "mimetype": "text/x-python",
   "name": "python",
   "nbconvert_exporter": "python",
   "pygments_lexer": "ipython3",
   "version": "3.12.5"
  }
 },
 "nbformat": 4,
 "nbformat_minor": 5
}
