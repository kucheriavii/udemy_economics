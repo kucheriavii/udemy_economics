{
 "cells": [
  {
   "cell_type": "markdown",
   "id": "d867eecf-c8a5-4a82-9b13-6c2aaf4c0d89",
   "metadata": {},
   "source": [
    "Компанія \"Альфа\" за рік мала чистий обсяг продажів у розмірі 1 200 000 грн. На початок року дебіторська заборгованість становила 150 000 грн, а на кінець року - 170 000 грн.\n",
    "\n",
    "- Знайдіть обертаємість дебіторської заборгованості за рік.\n",
    "- Визначте середній період погашення дебіторської заборгованості."
   ]
  },
  {
   "cell_type": "code",
   "execution_count": 3,
   "id": "0d77c4e8-aa7d-4341-b183-2cabf5329147",
   "metadata": {},
   "outputs": [],
   "source": [
    "revenue = 1_200_000\n",
    "debit_start = 150_000\n",
    "debit_end = 170_000"
   ]
  },
  {
   "cell_type": "code",
   "execution_count": 8,
   "id": "7199f46d-b2a9-41ec-b2b6-dc5fa15c3cc6",
   "metadata": {},
   "outputs": [],
   "source": [
    "debit_avg = (debit_start+debit_end)/2"
   ]
  },
  {
   "cell_type": "code",
   "execution_count": 12,
   "id": "c1f7f3f1-b75b-4bb1-abf4-5eb394be6c20",
   "metadata": {},
   "outputs": [],
   "source": [
    "Accounts_Receivable_Turnover = revenue/debit_avg"
   ]
  },
  {
   "cell_type": "code",
   "execution_count": 13,
   "id": "c20aa107-4e89-472e-916c-a8c8e8ce77d2",
   "metadata": {},
   "outputs": [
    {
     "data": {
      "text/plain": [
       "48.666666666666664"
      ]
     },
     "execution_count": 13,
     "metadata": {},
     "output_type": "execute_result"
    }
   ],
   "source": [
    "365/Accounts_Receivable_Turnover"
   ]
  },
  {
   "cell_type": "markdown",
   "id": "bbb382a2-fca3-4c00-85f8-3e4959d7252d",
   "metadata": {},
   "source": [
    "# Задача 2: Аналіз ефективності обертаємості дебіторської заборгованості\n",
    "Умова:\n",
    "Компанія \"Бета\" за попередній рік мала такі показники:\n",
    "\n",
    "Чистий обсяг продажів: 2 500 000 грн\n",
    "Дебіторська заборгованість на початок року: 300 000 грн\n",
    "Дебіторська заборгованість на кінець року: 250 000 грн\n",
    "Конкурент компанії \"Гамма\" мав обертаємість дебіторської заборгованості 9,0 разів на рік.\n",
    "\n",
    "Розрахуйте обертаємість дебіторської заборгованості компанії \"Бета\".\n",
    "Порівняйте її з конкурентом і зробіть висновок про ефективність управління дебіторською заборгованістю."
   ]
  },
  {
   "cell_type": "code",
   "execution_count": 16,
   "id": "04cb0df2-c0be-4710-bbc5-d177fd9baf5a",
   "metadata": {},
   "outputs": [],
   "source": [
    "revenue = 2_500_000\n",
    "debit_start = 300_000\n",
    "debit_end = 250_000"
   ]
  },
  {
   "cell_type": "code",
   "execution_count": 21,
   "id": "65621617-52c3-4839-8560-3009983c5e06",
   "metadata": {},
   "outputs": [
    {
     "data": {
      "text/plain": [
       "9.090909090909092"
      ]
     },
     "execution_count": 21,
     "metadata": {},
     "output_type": "execute_result"
    }
   ],
   "source": [
    "debit_avg = (debit_start+debit_end)/2\n",
    "ART = revenue/debit_avg\n",
    "ART"
   ]
  },
  {
   "cell_type": "code",
   "execution_count": 18,
   "id": "0b2d19dc-5441-4ef5-a909-413f5294d0e2",
   "metadata": {},
   "outputs": [
    {
     "data": {
      "text/plain": [
       "275000.0"
      ]
     },
     "execution_count": 18,
     "metadata": {},
     "output_type": "execute_result"
    }
   ],
   "source": [
    "debit_avg"
   ]
  },
  {
   "cell_type": "code",
   "execution_count": null,
   "id": "f27ed52a-b115-406e-b5d4-9d7fa5e5baa0",
   "metadata": {},
   "outputs": [],
   "source": []
  }
 ],
 "metadata": {
  "kernelspec": {
   "display_name": "Python 3 (ipykernel)",
   "language": "python",
   "name": "python3"
  },
  "language_info": {
   "codemirror_mode": {
    "name": "ipython",
    "version": 3
   },
   "file_extension": ".py",
   "mimetype": "text/x-python",
   "name": "python",
   "nbconvert_exporter": "python",
   "pygments_lexer": "ipython3",
   "version": "3.12.5"
  }
 },
 "nbformat": 4,
 "nbformat_minor": 5
}
