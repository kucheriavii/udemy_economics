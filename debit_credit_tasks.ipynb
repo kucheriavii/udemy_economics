{
 "cells": [
  {
   "cell_type": "markdown",
   "id": "d867eecf-c8a5-4a82-9b13-6c2aaf4c0d89",
   "metadata": {},
   "source": [
    "Компанія \"Альфа\" за рік мала чистий обсяг продажів у розмірі 1 200 000 грн. На початок року дебіторська заборгованість становила 150 000 грн, а на кінець року - 170 000 грн.\n",
    "\n",
    "- Знайдіть обертаємість дебіторської заборгованості за рік.\n",
    "- Визначте середній період погашення дебіторської заборгованості."
   ]
  },
  {
   "cell_type": "code",
   "execution_count": 12,
   "id": "0d77c4e8-aa7d-4341-b183-2cabf5329147",
   "metadata": {},
   "outputs": [],
   "source": [
    "revenue = 1_200_000\n",
    "debit_start = 150_000\n",
    "debit_end = 170_000"
   ]
  },
  {
   "cell_type": "code",
   "execution_count": 13,
   "id": "7199f46d-b2a9-41ec-b2b6-dc5fa15c3cc6",
   "metadata": {},
   "outputs": [],
   "source": [
    "debit_avg = (debit_start+debit_end)/2"
   ]
  },
  {
   "cell_type": "code",
   "execution_count": 14,
   "id": "c1f7f3f1-b75b-4bb1-abf4-5eb394be6c20",
   "metadata": {},
   "outputs": [],
   "source": [
    "Accounts_Receivable_Turnover = revenue/debit_avg"
   ]
  },
  {
   "cell_type": "code",
   "execution_count": 15,
   "id": "c20aa107-4e89-472e-916c-a8c8e8ce77d2",
   "metadata": {},
   "outputs": [
    {
     "data": {
      "text/plain": [
       "48.666666666666664"
      ]
     },
     "execution_count": 15,
     "metadata": {},
     "output_type": "execute_result"
    }
   ],
   "source": [
    "365/Accounts_Receivable_Turnover"
   ]
  },
  {
   "cell_type": "markdown",
   "id": "bbb382a2-fca3-4c00-85f8-3e4959d7252d",
   "metadata": {},
   "source": [
    "# Задача 2: Аналіз ефективності обертаємості дебіторської заборгованості\n",
    "Умова:\n",
    "Компанія \"Бета\" за попередній рік мала такі показники:\n",
    "\n",
    "Чистий обсяг продажів: 2 500 000 грн\n",
    "Дебіторська заборгованість на початок року: 300 000 грн\n",
    "Дебіторська заборгованість на кінець року: 250 000 грн\n",
    "Конкурент компанії \"Гамма\" мав обертаємість дебіторської заборгованості 9,0 разів на рік.\n",
    "\n",
    "Розрахуйте обертаємість дебіторської заборгованості компанії \"Бета\".\n",
    "Порівняйте її з конкурентом і зробіть висновок про ефективність управління дебіторською заборгованістю."
   ]
  },
  {
   "cell_type": "code",
   "execution_count": 16,
   "id": "04cb0df2-c0be-4710-bbc5-d177fd9baf5a",
   "metadata": {},
   "outputs": [],
   "source": [
    "revenue = 2_500_000\n",
    "debit_start = 300_000\n",
    "debit_end = 250_000"
   ]
  },
  {
   "cell_type": "code",
   "execution_count": 17,
   "id": "65621617-52c3-4839-8560-3009983c5e06",
   "metadata": {},
   "outputs": [
    {
     "data": {
      "text/plain": [
       "9.090909090909092"
      ]
     },
     "execution_count": 17,
     "metadata": {},
     "output_type": "execute_result"
    }
   ],
   "source": [
    "debit_avg = (debit_start+debit_end)/2\n",
    "ART = revenue/debit_avg\n",
    "ART"
   ]
  },
  {
   "cell_type": "code",
   "execution_count": 18,
   "id": "0b2d19dc-5441-4ef5-a909-413f5294d0e2",
   "metadata": {},
   "outputs": [
    {
     "data": {
      "text/plain": [
       "275000.0"
      ]
     },
     "execution_count": 18,
     "metadata": {},
     "output_type": "execute_result"
    }
   ],
   "source": [
    "debit_avg"
   ]
  },
  {
   "cell_type": "code",
   "execution_count": 19,
   "id": "2a770457-ee6b-4bc9-ad7b-fcf741ac77a4",
   "metadata": {},
   "outputs": [],
   "source": [
    "import pandas as pd"
   ]
  },
  {
   "cell_type": "markdown",
   "id": "10acfbe7-9f2e-4974-bf87-05fe87957ab4",
   "metadata": {},
   "source": [
    "```Давайте розглянемо більш складну задачу, яка включатиме декілька фінансових показників і аналіз ефективності обертаємості дебіторської заборгованості в динаміці, а також порівняння з галузевими стандартами.\n",
    "\n",
    "Складна задача з обертаємістю дебіторської заборгованості\n",
    "Умова:\n",
    "Компанія \"Дельта\" займається виробництвом і продажем електроніки. Протягом останніх трьох років її фінансові показники мають такі значення:\n",
    "\n",
    "Рік\tЧистий обсяг продажів (грн)\tДебіторська заборгованість на початок року (грн)\tДебіторська заборгованість на кінець року (грн)\n",
    "Рік 1\t4 000 000\t500 000\t600 000\n",
    "Рік 2\t4 500 000\t600 000\t650 000\n",
    "Рік 3\t5 000 000\t650 000\t700 000\n",
    "Галузевий стандарт обертаємості дебіторської заборгованості – 10 разів на рік.\n",
    "\n",
    "Розрахуйте обертаємість дебіторської заборгованості для кожного року компанії \"Дельта\".\n",
    "Визначте середній період погашення дебіторської заборгованості (у днях) для кожного року.\n",
    "Проаналізуйте динаміку обертаємості дебіторської заборгованості компанії та порівняйте з галузевим стандартом. Вкажіть, чи є тенденція до покращення або погіршення.\n",
    "Визначте, які кроки можна зробити для підвищення обертаємості дебіторської заборгованості.```"
   ]
  },
  {
   "cell_type": "code",
   "execution_count": 20,
   "id": "a251e38b-5d69-4f0f-b725-2d09e8394fc2",
   "metadata": {},
   "outputs": [],
   "source": [
    "df = pd.DataFrame({\n",
    "'years': [1,2,3], \n",
    "'sales':[4_000_000, 4_500_000, 5_000_000],\n",
    "'debit_start':[500_000, 600_000, 650_000],\n",
    "'debit_finish':[600_000, 650_000, 700_000]\n",
    "})"
   ]
  },
  {
   "cell_type": "code",
   "execution_count": null,
   "id": "a83571c8-9439-4c95-aa52-8c018cd29adf",
   "metadata": {},
   "outputs": [],
   "source": [
    "df['ART'] = df['sales']/((df['debit_start']+df['debit_finish'])/2)\n",
    "df"
   ]
  },
  {
   "cell_type": "code",
   "execution_count": null,
   "id": "792f1aa7-8e0f-4ac2-a05f-7bed457de79c",
   "metadata": {},
   "outputs": [],
   "source": [
    "df['ART in days'] = 365/df['ART']\n",
    "df"
   ]
  },
  {
   "cell_type": "code",
   "execution_count": null,
   "id": "861c8a16-ec54-4dd7-81fa-fcdde1de003f",
   "metadata": {},
   "outputs": [],
   "source": []
  },
  {
   "cell_type": "markdown",
   "id": "7b720f0f-4f79-461a-a525-86a8ea878b7d",
   "metadata": {},
   "source": [
    "```Давайте розглянемо більш складну задачу, яка включатиме декілька фінансових показників і аналіз ефективності обертаємості дебіторської заборгованості в динаміці, а також порівняння з галузевими стандартами.\n",
    "\n",
    "Складна задача з обертаємістю дебіторської заборгованості\n",
    "Умова:\n",
    "Компанія \"Дельта\" займається виробництвом і продажем електроніки. Протягом останніх трьох років її фінансові показники мають такі значення:\n",
    "\n",
    "Рік\tЧистий обсяг продажів (грн)\tДебіторська заборгованість на початок року (грн)\tДебіторська заборгованість на кінець року (грн)\n",
    "Рік 1\t4 000 000\t500 000\t600 000\n",
    "Рік 2\t4 500 000\t600 000\t650 000\n",
    "Рік 3\t5 000 000\t650 000\t700 000\n",
    "Галузевий стандарт обертаємості дебіторської заборгованості – 10 разів на рік.\n",
    "\n",
    "Розрахуйте обертаємість дебіторської заборгованості для кожного року компанії \"Дельта\".\n",
    "Визначте середній період погашення дебіторської заборгованості (у днях) для кожного року.\n",
    "Проаналізуйте динаміку обертаємості дебіторської заборгованості компанії та порівняйте з галузевим стандартом. Вкажіть, чи є тенденція до покращення або погіршення.\n",
    "Визначте, які кроки можна зробити для підвищення обертаємості дебіторської заборгованості.```"
   ]
  },
  {
   "cell_type": "code",
   "execution_count": null,
   "id": "f899f852-c336-4a5f-a470-62961f422192",
   "metadata": {},
   "outputs": [],
   "source": [
    "import pandas as pd"
   ]
  },
  {
   "cell_type": "code",
   "execution_count": 24,
   "id": "3c8f993b-b3f0-4e69-8de9-f74dc578567f",
   "metadata": {},
   "outputs": [],
   "source": [
    "data = pd.DataFrame({\n",
    "    'years': [1,2,3],\n",
    "    'revenue': [4_000_000, 4_500_000, 5_000_000],\n",
    "    'debit_start': [500_000, 600_000, 650_000],\n",
    "    'debit_end': [600_000, 650_000, 700_000]\n",
    "})"
   ]
  },
  {
   "cell_type": "code",
   "execution_count": 25,
   "id": "9ef6ef4a-c71f-42da-9fa0-ba23112b425a",
   "metadata": {},
   "outputs": [],
   "source": [
    "data['debit_avg'] = round(data['revenue']/((data['debit_start']+data['debit_end'])/2),2)"
   ]
  },
  {
   "cell_type": "code",
   "execution_count": 26,
   "id": "0b00cc07-e05c-47a5-bf0a-cad1e6bf657a",
   "metadata": {},
   "outputs": [
    {
     "data": {
      "text/html": [
       "<div>\n",
       "<style scoped>\n",
       "    .dataframe tbody tr th:only-of-type {\n",
       "        vertical-align: middle;\n",
       "    }\n",
       "\n",
       "    .dataframe tbody tr th {\n",
       "        vertical-align: top;\n",
       "    }\n",
       "\n",
       "    .dataframe thead th {\n",
       "        text-align: right;\n",
       "    }\n",
       "</style>\n",
       "<table border=\"1\" class=\"dataframe\">\n",
       "  <thead>\n",
       "    <tr style=\"text-align: right;\">\n",
       "      <th></th>\n",
       "      <th>years</th>\n",
       "      <th>revenue</th>\n",
       "      <th>debit_start</th>\n",
       "      <th>debit_end</th>\n",
       "      <th>debit_avg</th>\n",
       "    </tr>\n",
       "  </thead>\n",
       "  <tbody>\n",
       "    <tr>\n",
       "      <th>0</th>\n",
       "      <td>1</td>\n",
       "      <td>4000000</td>\n",
       "      <td>500000</td>\n",
       "      <td>600000</td>\n",
       "      <td>7.27</td>\n",
       "    </tr>\n",
       "    <tr>\n",
       "      <th>1</th>\n",
       "      <td>2</td>\n",
       "      <td>4500000</td>\n",
       "      <td>600000</td>\n",
       "      <td>650000</td>\n",
       "      <td>7.20</td>\n",
       "    </tr>\n",
       "    <tr>\n",
       "      <th>2</th>\n",
       "      <td>3</td>\n",
       "      <td>5000000</td>\n",
       "      <td>650000</td>\n",
       "      <td>700000</td>\n",
       "      <td>7.41</td>\n",
       "    </tr>\n",
       "  </tbody>\n",
       "</table>\n",
       "</div>"
      ],
      "text/plain": [
       "   years  revenue  debit_start  debit_end  debit_avg\n",
       "0      1  4000000       500000     600000       7.27\n",
       "1      2  4500000       600000     650000       7.20\n",
       "2      3  5000000       650000     700000       7.41"
      ]
     },
     "execution_count": 26,
     "metadata": {},
     "output_type": "execute_result"
    }
   ],
   "source": [
    "data"
   ]
  },
  {
   "cell_type": "code",
   "execution_count": 27,
   "id": "ad400803-4b20-49a2-bebc-a455cbaa2dcd",
   "metadata": {},
   "outputs": [],
   "source": [
    "data['debit_liquide_days'] = round(365/data['debit_avg'],1)"
   ]
  },
  {
   "cell_type": "code",
   "execution_count": 28,
   "id": "ad2ec1f5-bc76-4dd7-9699-649a5e938970",
   "metadata": {},
   "outputs": [
    {
     "data": {
      "text/html": [
       "<div>\n",
       "<style scoped>\n",
       "    .dataframe tbody tr th:only-of-type {\n",
       "        vertical-align: middle;\n",
       "    }\n",
       "\n",
       "    .dataframe tbody tr th {\n",
       "        vertical-align: top;\n",
       "    }\n",
       "\n",
       "    .dataframe thead th {\n",
       "        text-align: right;\n",
       "    }\n",
       "</style>\n",
       "<table border=\"1\" class=\"dataframe\">\n",
       "  <thead>\n",
       "    <tr style=\"text-align: right;\">\n",
       "      <th></th>\n",
       "      <th>years</th>\n",
       "      <th>revenue</th>\n",
       "      <th>debit_start</th>\n",
       "      <th>debit_end</th>\n",
       "      <th>debit_avg</th>\n",
       "      <th>debit_liquide_days</th>\n",
       "    </tr>\n",
       "  </thead>\n",
       "  <tbody>\n",
       "    <tr>\n",
       "      <th>0</th>\n",
       "      <td>1</td>\n",
       "      <td>4000000</td>\n",
       "      <td>500000</td>\n",
       "      <td>600000</td>\n",
       "      <td>7.27</td>\n",
       "      <td>50.2</td>\n",
       "    </tr>\n",
       "    <tr>\n",
       "      <th>1</th>\n",
       "      <td>2</td>\n",
       "      <td>4500000</td>\n",
       "      <td>600000</td>\n",
       "      <td>650000</td>\n",
       "      <td>7.20</td>\n",
       "      <td>50.7</td>\n",
       "    </tr>\n",
       "    <tr>\n",
       "      <th>2</th>\n",
       "      <td>3</td>\n",
       "      <td>5000000</td>\n",
       "      <td>650000</td>\n",
       "      <td>700000</td>\n",
       "      <td>7.41</td>\n",
       "      <td>49.3</td>\n",
       "    </tr>\n",
       "  </tbody>\n",
       "</table>\n",
       "</div>"
      ],
      "text/plain": [
       "   years  revenue  debit_start  debit_end  debit_avg  debit_liquide_days\n",
       "0      1  4000000       500000     600000       7.27                50.2\n",
       "1      2  4500000       600000     650000       7.20                50.7\n",
       "2      3  5000000       650000     700000       7.41                49.3"
      ]
     },
     "execution_count": 28,
     "metadata": {},
     "output_type": "execute_result"
    }
   ],
   "source": [
    "data"
   ]
  },
  {
   "cell_type": "markdown",
   "id": "1aab39b3-cba3-44b9-8854-95e6061c52fc",
   "metadata": {},
   "source": [
    "### Задача: Обертаємість запасів  \n",
    "\n",
    "Компанія \"Альфа\" займається виробництвом меблів. Її фінансові показники за останні три роки мають такі значення:  \n",
    "\n",
    "| **Рік** | **Собівартість реалізованої продукції (грн)** | **Запаси на початок року (грн)** | **Запаси на кінець року (грн)** |  \n",
    "|---------|--------------------------------------------|----------------------------------|--------------------------------|  \n",
    "| Рік 1   | 3 200 000                                  | 400 000                          | 500 000                        |  \n",
    "| Рік 2   | 3 600 000                                  | 500 000                          | 550 000                        |  \n",
    "| Рік 3   | 4 000 000                                  | 550 000                          | 600 000                        |  \n",
    "\n",
    "Галузевий стандарт обертаємості запасів – 8 разів на рік.  \n",
    "\n",
    "### Завдання:  \n",
    "1. **Розрахуйте обертаємість запасів (ОЗ) для кожного року компанії \"Альфа\".**  \n",
    "   Формула:  \n",
    "   \\$ ОЗ = \\frac{\\text{Собівартість реалізованої продукції}}{\\text{Середні запаси}} $  \n",
    "\n",
    "2. **Визначте середній період обороту запасів (у днях) для кожного року.**  \n",
    "   Формула:  \n",
    "   \\$СПО = \\frac{365}{ОЗ}$  \n",
    "\n",
    "3. **Проаналізуйте динаміку обертаємості запасів компанії та порівняйте з галузевим стандартом.**  \n",
    "\n",
    "4. **Запропонуйте кроки для підвищення обертаємості запасів.**  \n",
    "\n",
    "---  \n",
    "Якщо потрібно, я можу одразу розв'язати цю задачу! 😊"
   ]
  },
  {
   "cell_type": "code",
   "execution_count": 29,
   "id": "84244162-c5ee-4649-936f-5d2e9c1f9593",
   "metadata": {},
   "outputs": [],
   "source": [
    "data = pd.DataFrame({\n",
    "    'year': [2023,2024,2025],\n",
    "    'COGS': [3_200_000, 3_600_000, 4_000_000],\n",
    "    'warehouse_start': [400_000, 500_000, 550_000],\n",
    "    'warehouse_end': [500_000, 550_000, 600_000]\n",
    "})"
   ]
  },
  {
   "cell_type": "code",
   "execution_count": 30,
   "id": "12d12a9f-2b6d-4f6a-9d9c-5e7b3de2a4d1",
   "metadata": {},
   "outputs": [
    {
     "data": {
      "text/html": [
       "<div>\n",
       "<style scoped>\n",
       "    .dataframe tbody tr th:only-of-type {\n",
       "        vertical-align: middle;\n",
       "    }\n",
       "\n",
       "    .dataframe tbody tr th {\n",
       "        vertical-align: top;\n",
       "    }\n",
       "\n",
       "    .dataframe thead th {\n",
       "        text-align: right;\n",
       "    }\n",
       "</style>\n",
       "<table border=\"1\" class=\"dataframe\">\n",
       "  <thead>\n",
       "    <tr style=\"text-align: right;\">\n",
       "      <th></th>\n",
       "      <th>year</th>\n",
       "      <th>COGS</th>\n",
       "      <th>warehouse_start</th>\n",
       "      <th>warehouse_end</th>\n",
       "    </tr>\n",
       "  </thead>\n",
       "  <tbody>\n",
       "    <tr>\n",
       "      <th>0</th>\n",
       "      <td>2023</td>\n",
       "      <td>3200000</td>\n",
       "      <td>400000</td>\n",
       "      <td>500000</td>\n",
       "    </tr>\n",
       "    <tr>\n",
       "      <th>1</th>\n",
       "      <td>2024</td>\n",
       "      <td>3600000</td>\n",
       "      <td>500000</td>\n",
       "      <td>550000</td>\n",
       "    </tr>\n",
       "    <tr>\n",
       "      <th>2</th>\n",
       "      <td>2025</td>\n",
       "      <td>4000000</td>\n",
       "      <td>550000</td>\n",
       "      <td>600000</td>\n",
       "    </tr>\n",
       "  </tbody>\n",
       "</table>\n",
       "</div>"
      ],
      "text/plain": [
       "   year     COGS  warehouse_start  warehouse_end\n",
       "0  2023  3200000           400000         500000\n",
       "1  2024  3600000           500000         550000\n",
       "2  2025  4000000           550000         600000"
      ]
     },
     "execution_count": 30,
     "metadata": {},
     "output_type": "execute_result"
    }
   ],
   "source": [
    "data"
   ]
  },
  {
   "cell_type": "code",
   "execution_count": 31,
   "id": "561d1197-d28d-4f57-8b68-aa7669232623",
   "metadata": {},
   "outputs": [
    {
     "data": {
      "text/html": [
       "<div>\n",
       "<style scoped>\n",
       "    .dataframe tbody tr th:only-of-type {\n",
       "        vertical-align: middle;\n",
       "    }\n",
       "\n",
       "    .dataframe tbody tr th {\n",
       "        vertical-align: top;\n",
       "    }\n",
       "\n",
       "    .dataframe thead th {\n",
       "        text-align: right;\n",
       "    }\n",
       "</style>\n",
       "<table border=\"1\" class=\"dataframe\">\n",
       "  <thead>\n",
       "    <tr style=\"text-align: right;\">\n",
       "      <th></th>\n",
       "      <th>year</th>\n",
       "      <th>COGS</th>\n",
       "      <th>warehouse_start</th>\n",
       "      <th>warehouse_end</th>\n",
       "      <th>inventory_turover</th>\n",
       "    </tr>\n",
       "  </thead>\n",
       "  <tbody>\n",
       "    <tr>\n",
       "      <th>0</th>\n",
       "      <td>2023</td>\n",
       "      <td>3200000</td>\n",
       "      <td>400000</td>\n",
       "      <td>500000</td>\n",
       "      <td>7.11</td>\n",
       "    </tr>\n",
       "    <tr>\n",
       "      <th>1</th>\n",
       "      <td>2024</td>\n",
       "      <td>3600000</td>\n",
       "      <td>500000</td>\n",
       "      <td>550000</td>\n",
       "      <td>6.86</td>\n",
       "    </tr>\n",
       "    <tr>\n",
       "      <th>2</th>\n",
       "      <td>2025</td>\n",
       "      <td>4000000</td>\n",
       "      <td>550000</td>\n",
       "      <td>600000</td>\n",
       "      <td>6.96</td>\n",
       "    </tr>\n",
       "  </tbody>\n",
       "</table>\n",
       "</div>"
      ],
      "text/plain": [
       "   year     COGS  warehouse_start  warehouse_end  inventory_turover\n",
       "0  2023  3200000           400000         500000               7.11\n",
       "1  2024  3600000           500000         550000               6.86\n",
       "2  2025  4000000           550000         600000               6.96"
      ]
     },
     "execution_count": 31,
     "metadata": {},
     "output_type": "execute_result"
    }
   ],
   "source": [
    "data['inventory_turover'] = round(data['COGS']/((data['warehouse_start']+data['warehouse_end'])/2),2)\n",
    "data"
   ]
  },
  {
   "cell_type": "code",
   "execution_count": 32,
   "id": "c248ac40-a9ff-4335-af98-4eb233965463",
   "metadata": {},
   "outputs": [
    {
     "data": {
      "text/html": [
       "<div>\n",
       "<style scoped>\n",
       "    .dataframe tbody tr th:only-of-type {\n",
       "        vertical-align: middle;\n",
       "    }\n",
       "\n",
       "    .dataframe tbody tr th {\n",
       "        vertical-align: top;\n",
       "    }\n",
       "\n",
       "    .dataframe thead th {\n",
       "        text-align: right;\n",
       "    }\n",
       "</style>\n",
       "<table border=\"1\" class=\"dataframe\">\n",
       "  <thead>\n",
       "    <tr style=\"text-align: right;\">\n",
       "      <th></th>\n",
       "      <th>year</th>\n",
       "      <th>COGS</th>\n",
       "      <th>warehouse_start</th>\n",
       "      <th>warehouse_end</th>\n",
       "      <th>inventory_turover</th>\n",
       "      <th>inventory_turover_in_days</th>\n",
       "    </tr>\n",
       "  </thead>\n",
       "  <tbody>\n",
       "    <tr>\n",
       "      <th>0</th>\n",
       "      <td>2023</td>\n",
       "      <td>3200000</td>\n",
       "      <td>400000</td>\n",
       "      <td>500000</td>\n",
       "      <td>7.11</td>\n",
       "      <td>51.3</td>\n",
       "    </tr>\n",
       "    <tr>\n",
       "      <th>1</th>\n",
       "      <td>2024</td>\n",
       "      <td>3600000</td>\n",
       "      <td>500000</td>\n",
       "      <td>550000</td>\n",
       "      <td>6.86</td>\n",
       "      <td>53.2</td>\n",
       "    </tr>\n",
       "    <tr>\n",
       "      <th>2</th>\n",
       "      <td>2025</td>\n",
       "      <td>4000000</td>\n",
       "      <td>550000</td>\n",
       "      <td>600000</td>\n",
       "      <td>6.96</td>\n",
       "      <td>52.4</td>\n",
       "    </tr>\n",
       "  </tbody>\n",
       "</table>\n",
       "</div>"
      ],
      "text/plain": [
       "   year     COGS  warehouse_start  warehouse_end  inventory_turover  \\\n",
       "0  2023  3200000           400000         500000               7.11   \n",
       "1  2024  3600000           500000         550000               6.86   \n",
       "2  2025  4000000           550000         600000               6.96   \n",
       "\n",
       "   inventory_turover_in_days  \n",
       "0                       51.3  \n",
       "1                       53.2  \n",
       "2                       52.4  "
      ]
     },
     "execution_count": 32,
     "metadata": {},
     "output_type": "execute_result"
    }
   ],
   "source": [
    "data['inventory_turover_in_days'] = round(365/data['inventory_turover'],1)\n",
    "data"
   ]
  },
  {
   "cell_type": "code",
   "execution_count": null,
   "id": "5520ea05-dd52-40a6-b20f-c6e870ab5ad8",
   "metadata": {},
   "outputs": [],
   "source": []
  }
 ],
 "metadata": {
  "kernelspec": {
   "display_name": "Python 3 (ipykernel)",
   "language": "python",
   "name": "python3"
  },
  "language_info": {
   "codemirror_mode": {
    "name": "ipython",
    "version": 3
   },
   "file_extension": ".py",
   "mimetype": "text/x-python",
   "name": "python",
   "nbconvert_exporter": "python",
   "pygments_lexer": "ipython3",
   "version": "3.12.7"
  }
 },
 "nbformat": 4,
 "nbformat_minor": 5
}
